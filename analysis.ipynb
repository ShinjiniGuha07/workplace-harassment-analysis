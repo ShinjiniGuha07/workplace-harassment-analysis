{
 "cells": [
  {
   "cell_type": "markdown",
   "id": "071d65f4",
   "metadata": {},
   "source": [
    "### Analysis\n",
    "\n",
    "The following analysis uses only the employee survey data which was modified and categorized by the cleaning script b"
   ]
  },
  {
   "cell_type": "code",
   "execution_count": 1,
   "id": "250cc29f",
   "metadata": {},
   "outputs": [
    {
     "data": {
      "text/plain": [
       "Index(['Do you know if your company or institution has a reporting channel to report harassment or sexual harassment at work?',\n",
       "       'Do you know the policy for the prevention and/or sanction of harassment or sexual harassment at work in your institution or company?',\n",
       "       'Do you know what the investigation process consists of in cases of harassment or sexual harassment at work in your company or institution?',\n",
       "       'In the last 12 months, have you received training on prevention of harassment or sexual harassment at work?',\n",
       "       'Where are cases of harassment or sexual harassment at work reported in your company or institution?',\n",
       "       'org_id', 'country', 'empl_id'],\n",
       "      dtype='object')"
      ]
     },
     "execution_count": 1,
     "metadata": {},
     "output_type": "execute_result"
    }
   ],
   "source": [
    "import pandas as pd\n",
    "import numpy as np\n",
    "\n",
    "empl_prevention_df = pd.read_csv('empl_survey_prevention.csv')\n",
    "empl_prevention_df.columns"
   ]
  },
  {
   "cell_type": "markdown",
   "id": "434966ae",
   "metadata": {},
   "source": [
    "#### Hypothesis 1: People who have recieved more trainings in the past year have better knowledge of the reporting channel"
   ]
  },
  {
   "cell_type": "code",
   "execution_count": 2,
   "id": "c8197552",
   "metadata": {},
   "outputs": [
    {
     "name": "stdout",
     "output_type": "stream",
     "text": [
      "Correlation Coefficient: 0.3876424407540485\n",
      "P-value: 3.116209266722795e-46\n",
      "T-test p-value: 1.8137952280018076e-07\n"
     ]
    }
   ],
   "source": [
    "\n",
    "from scipy import stats\n",
    "\n",
    "col_training = 'In the last 12 months, have you received training on prevention of harassment or sexual harassment at work?'\n",
    "col_reporting_channel = 'Do you know if your company or institution has a reporting channel to report harassment or sexual harassment at work?'\n",
    "\n",
    "correlation_coefficient, p_value = stats.pearsonr(empl_prevention_df[col_training], empl_prevention_df[col_reporting_channel])\n",
    "print(f\"Correlation Coefficient: {correlation_coefficient}\")\n",
    "print(f\"P-value: {p_value}\")\n",
    "\n",
    "group_1 = empl_prevention_df[empl_prevention_df[col_training] == 1][col_reporting_channel]\n",
    "group_2 = empl_prevention_df[empl_prevention_df[col_training] == 2][col_reporting_channel]\n",
    "\n",
    "t_stat, p_value_t = stats.ttest_ind(group_1, group_2)\n",
    "print(f\"T-test p-value: {p_value_t}\")"
   ]
  },
  {
   "cell_type": "markdown",
   "id": "6b0216c3",
   "metadata": {},
   "source": [
    "#### Results\n",
    "\n",
    "1. Correlation Coefficient:\n",
    "\n",
    "The correlation coefficient of approximately 0.39 indicates a moderate positive correlation between 'training received' and 'reporting channel' scores.\n",
    "This suggests that there is a tendency for individuals who received more training to have a better understanding of the reporting channel.\n",
    "\n",
    "2. P-values:\n",
    "\n",
    "The p-value for the correlation coefficient is extremely small (close to 0), indicating strong evidence against the null hypothesis that there is no correlation between the variables.\n",
    "Similarly, the low p-value from the t-test suggests strong evidence against the null hypothesis that the mean 'reporting channel' scores for individuals who received training once and more than once are equal.\n",
    "\n",
    "\n",
    "These results provide statistical support for the hypothesis that people who received more training in the past year tend to have better knowledge of the reporting channel. The positive correlation and the significant difference in mean scores between different training groups both support this idea.\n",
    "\n",
    "\n",
    "#### Method: correlation and t-test"
   ]
  },
  {
   "cell_type": "markdown",
   "id": "a905dfe0",
   "metadata": {},
   "source": [
    "#### Hypothesis 2: People who have recieved more trainings in the past year have better knowledge of the investigation"
   ]
  },
  {
   "cell_type": "code",
   "execution_count": 3,
   "id": "58028dfb",
   "metadata": {},
   "outputs": [
    {
     "name": "stdout",
     "output_type": "stream",
     "text": [
      "Pearson Correlation Coefficient: 0.4340953923665827\n",
      "P-value: 8.894106579523971e-59\n"
     ]
    }
   ],
   "source": [
    "col_investigation = 'Do you know what the investigation process consists of in cases of harassment or sexual harassment at work in your company or institution?'\n",
    "\n",
    "correlation, p_value = stats.pearsonr(empl_prevention_df[col_training], empl_prevention_df[col_investigation])\n",
    "\n",
    "print(f\"Pearson Correlation Coefficient: {correlation}\")\n",
    "print(f\"P-value: {p_value}\")"
   ]
  },
  {
   "cell_type": "markdown",
   "id": "86b3fbec",
   "metadata": {},
   "source": [
    "#### Results\n",
    "A Pearson correlation coefficient of 0.43 suggests a moderate positive linear relationship between the 'training received' and 'reporting channel' scores. The p-value being extremely low (close to zero) indicates that this correlation is statistically significant.\n",
    "\n",
    "Therefore, based on this analysis, there seems to be evidence supporting the hypothesis that people who have received more training in the past year tend to have better knowledge of the investigation process.\n",
    "\n",
    "\n",
    "#### method: pearson correlation"
   ]
  },
  {
   "cell_type": "markdown",
   "id": "595dfc44",
   "metadata": {},
   "source": [
    "#### Hypothesis 3: People who have recieved more trainings in the past year have better knowledge of the policies surrounding sexual harasment\n"
   ]
  },
  {
   "cell_type": "code",
   "execution_count": 12,
   "id": "28c36e0e",
   "metadata": {},
   "outputs": [
    {
     "name": "stdout",
     "output_type": "stream",
     "text": [
      "Pearson correlation coefficient: 0.4602230092618429\n",
      "P-value: 2.971612599007193e-65\n"
     ]
    }
   ],
   "source": [
    "from scipy.stats import spearmanr\n",
    "\n",
    "col_policy = 'Do you know the policy for the prevention and/or sanction of harassment or sexual harassment at work in your institution or company?'\n",
    "\n",
    "subset_df = empl_prevention_df[[col_training, col_policy]].dropna()\n",
    "correlation, p_value = stats.pearsonr(subset_df[col_training], subset_df[col_policy])\n",
    "\n",
    "\n",
    "print(f\"Pearson correlation coefficient: {corr}\")\n",
    "print(f\"P-value: {p_value}\")\n",
    "\n"
   ]
  },
  {
   "cell_type": "markdown",
   "id": "d205cea4",
   "metadata": {},
   "source": [
    "#### Results\n",
    "\n",
    "The Pearson correlation coefficient obtained is approximately 0.46, indicating a moderate positive correlation between the number of trainings received and the knowledge of policies surrounding sexual harassment.\n",
    "\n",
    "The p-value (2.97e-65) is extremely small, suggesting strong evidence against the null hypothesis. In other words, it indicates that this correlation is statistically significant, implying that the relationship observed between the two variables (training received and knowledge of policies) is unlikely to be due to chance.\n",
    "\n",
    "#### Method: Pearson corelation"
   ]
  },
  {
   "cell_type": "markdown",
   "id": "738cff6e",
   "metadata": {},
   "source": [
    "#### Hypothesis 4: People who have recieved more trainings in the past year have lower tolerance to sexual harasment"
   ]
  },
  {
   "cell_type": "code",
   "execution_count": 5,
   "id": "4e8cb16f",
   "metadata": {},
   "outputs": [
    {
     "name": "stdout",
     "output_type": "stream",
     "text": [
      "no training 19.45273631840796\n",
      "1 training 15.518488745980708\n",
      ">1 trainings 15.304347826086957\n",
      "\n",
      "F-statistic: 11.439557155844142\n",
      "P-value: 1.1932936108832393e-05\n",
      "Multiple Comparison of Means - Tukey HSD, FWER=0.05 \n",
      "====================================================\n",
      "group1 group2 meandiff p-adj   lower   upper  reject\n",
      "----------------------------------------------------\n",
      "     0      1  -3.9342    0.0 -6.0073 -1.8612   True\n",
      "     0      2  -4.1484 0.0008 -6.8266 -1.4702   True\n",
      "     1      2  -0.2141  0.978 -2.7141  2.2858  False\n",
      "----------------------------------------------------\n"
     ]
    }
   ],
   "source": [
    "from scipy.stats import f_oneway\n",
    "import statsmodels.api as sm\n",
    "from statsmodels.stats.multicomp import pairwise_tukeyhsd\n",
    "\n",
    "emp_tol = pd.read_csv('empl_survey_tol.csv')\n",
    "merged_df = pd.merge(emp_tol, empl_prevention_df, on='empl_id', how='left')\n",
    "\n",
    "no_training = merged_df[merged_df[col_training] == 1]['tol_perc']\n",
    "received_training = merged_df[merged_df[col_training] == 2]['tol_perc']\n",
    "\n",
    "no_training = merged_df[merged_df[col_training] == 0]['tol_perc']\n",
    "once_training = merged_df[merged_df[col_training] == 1]['tol_perc']\n",
    "more_than_once_training = merged_df[merged_df[col_training] == 2]['tol_perc']\n",
    "\n",
    "\n",
    "f_stat, p_value = f_oneway(no_training, once_training, more_than_once_training)\n",
    "\n",
    "print('no training', no_training.mean())\n",
    "print('1 training', once_training.mean())\n",
    "print('>1 trainings', more_than_once_training.mean())\n",
    "\n",
    "print(f\"\\nF-statistic: {f_stat}\")\n",
    "print(f\"P-value: {p_value}\")\n",
    "\n",
    "# the results suggests atleast on groups tolerance is kinda different \n",
    "\n",
    "merged_df['group'] = merged_df[col_training]\n",
    "tukey_result = pairwise_tukeyhsd(merged_df['tol_perc'], merged_df['group'])\n",
    "merged_df['group'].unique()\n",
    "\n",
    "print(tukey_result.summary())"
   ]
  },
  {
   "cell_type": "markdown",
   "id": "f0516f19",
   "metadata": {},
   "source": [
    "#### Results:\n",
    "\n",
    "From the results:\n",
    "\n",
    "The comparisons between group 0 (No never.) and group 1 (Yes, once.) as well as between group 0 and group 2 (Yes, more than once.) show significantly different mean tolerance levels (reject = True).\n",
    "\n",
    "group 0 has significantly lower mean tolerance levels compared to both group 1 and group 2.\n",
    "However, the comparison between group 1 and group 2 does not show a significant difference in mean tolerance levels (reject = False).\n",
    "\n",
    "There's no significant difference between the mean tolerance levels of group 1 and group 2.\n",
    "This means that individuals who have never received any training ('No never.') have significantly lower mean tolerance levels compared to those who have received training at least once ('Yes, once.' and 'Yes, more than once.'). However, there's no significant difference in mean tolerance levels between those who received training once and those who received training more than once.\n",
    "\n",
    "#### Method: ANOVA, Tukey's Honestly Significant Difference (HSD) test\n"
   ]
  },
  {
   "cell_type": "markdown",
   "id": "c28e1e11",
   "metadata": {},
   "source": [
    "#### Hypothesis 5: People who have recieved trainings in the past year are more likely to report acts of sexual harasment"
   ]
  },
  {
   "cell_type": "code",
   "execution_count": 6,
   "id": "7b4393e0",
   "metadata": {},
   "outputs": [
    {
     "name": "stdout",
     "output_type": "stream",
     "text": [
      "T-statistic: 0.22789936816614845\n",
      "P-value: 0.8199527324086381\n"
     ]
    }
   ],
   "source": [
    "from scipy.stats import ttest_ind\n",
    "\n",
    "report_df = pd.read_csv('empl_survey_reporting.csv')\n",
    "merged_df = pd.merge(report_df, empl_prevention_df, on='empl_id', how='left')\n",
    "\n",
    "\n",
    "reporting_with_training = merged_df[merged_df[col_training] > 0]['reporting_score']\n",
    "reporting_no_training = merged_df[merged_df[col_training] == 0]['reporting_score']\n",
    "\n",
    "t_stat, p_value = ttest_ind(reporting_with_training, reporting_no_training)\n",
    "\n",
    "print(f\"T-statistic: {t_stat}\")\n",
    "print(f\"P-value: {p_value}\")"
   ]
  },
  {
   "cell_type": "markdown",
   "id": "a7bc0a22",
   "metadata": {},
   "source": [
    "#### Results:\n",
    "\n",
    "The t-test results indicate a T-statistic of approximately 0.228 and a p-value of about 0.820.\n",
    "\n",
    "With such a high p-value (greater than the common significance level of 0.05), there's insufficient evidence to reject the null hypothesis. This suggests that there's no statistically significant difference in reporting scores between individuals who have received training and those who haven't.\n",
    "\n"
   ]
  },
  {
   "cell_type": "markdown",
   "id": "237fd3ba",
   "metadata": {},
   "source": [
    "#### Hypothesis 6: People who have recieved more trainings in the past year have more trust in their organization when dealing with sexual harasment cases"
   ]
  },
  {
   "cell_type": "code",
   "execution_count": 78,
   "id": "050e8dbb",
   "metadata": {},
   "outputs": [
    {
     "name": "stdout",
     "output_type": "stream",
     "text": [
      "no training: 12.211442786069652\n",
      "training: 12.73560517038778\n",
      "\n",
      "T-statistic: 2.7197263308132196\n",
      "P-value: 0.0066240463345820805\n"
     ]
    }
   ],
   "source": [
    "trust_df = pd.read_csv('empl_survey_trust.csv')\n",
    "merged_df = pd.merge(trust_df, empl_prevention_df, on='empl_id', how='left')\n",
    "\n",
    "reporting_with_training = merged_df[merged_df[col_training] > 0]['total_trust_score']\n",
    "reporting_no_training = merged_df[merged_df[col_training] == 0]['total_trust_score']\n",
    "\n",
    "t_stat, p_value = ttest_ind(reporting_with_training, reporting_no_training)\n",
    "\n",
    "print(f'no training: {reporting_no_training.mean()}')\n",
    "print(f'training: {reporting_with_training.mean()}')\n",
    "\n",
    "print(f\"\\nT-statistic: {t_stat}\")\n",
    "print(f\"P-value: {p_value}\")"
   ]
  },
  {
   "cell_type": "markdown",
   "id": "e5a069c8",
   "metadata": {},
   "source": [
    "#### Results\n",
    "\n",
    "With a p-value below the typical significance level of 0.05, it suggests there's evidence to reject the null hypothesis. This means there might be a statistically significant difference in trust scores between individuals who have received trainings and those who haven't.\n",
    "\n",
    "Might wanna check other stuff in relation to trust cus i dont see much diff in the mean"
   ]
  },
  {
   "cell_type": "markdown",
   "id": "2ac3a1a6",
   "metadata": {},
   "source": [
    "#### Hypothesis 7: People who trust the company more, are more likely to report inccidents of sexual harassmesnt"
   ]
  },
  {
   "cell_type": "code",
   "execution_count": 11,
   "id": "2fbc9e0e",
   "metadata": {},
   "outputs": [
    {
     "name": "stdout",
     "output_type": "stream",
     "text": [
      "Pearson's correlation coefficient: -0.0581691699037178\n",
      "P-value: 0.40625167701500914\n"
     ]
    }
   ],
   "source": [
    "from scipy.stats import pearsonr\n",
    "trust_df = pd.read_csv('empl_survey_trust.csv')\n",
    "report_df = pd.read_csv('empl_survey_reporting.csv')\n",
    "merged_df = pd.merge(report_df, trust_df, on='empl_id', how='left')\n",
    "merged_df.columns \n",
    "\n",
    "trust_scores = merged_df['total_trust_score']\n",
    "reporting_scores = merged_df['reporting_score']\n",
    "\n",
    "correlation_coefficient, p_value = pearsonr(trust_scores, reporting_scores)\n",
    "\n",
    "print(f\"Pearson's correlation coefficient: {correlation_coefficient}\")\n",
    "print(f\"P-value: {p_value}\")"
   ]
  },
  {
   "cell_type": "markdown",
   "id": "9eaebe74",
   "metadata": {},
   "source": [
    "Correlation Coefficient: The coefficient being close to zero (-0.058) suggests a very weak linear relationship between trust scores and reporting scores.\n",
    "P-Value Interpretation: The p-value of 0.406 is higher than the commonly chosen significance level of 0.05. This suggests that the observed correlation could likely be due to random chance rather than a true relationship between trust in the organization and the likelihood of reporting sexual harassment cases."
   ]
  }
 ],
 "metadata": {
  "kernelspec": {
   "display_name": "Python 3 (ipykernel)",
   "language": "python",
   "name": "python3"
  },
  "language_info": {
   "codemirror_mode": {
    "name": "ipython",
    "version": 3
   },
   "file_extension": ".py",
   "mimetype": "text/x-python",
   "name": "python",
   "nbconvert_exporter": "python",
   "pygments_lexer": "ipython3",
   "version": "3.10.9"
  }
 },
 "nbformat": 4,
 "nbformat_minor": 5
}
